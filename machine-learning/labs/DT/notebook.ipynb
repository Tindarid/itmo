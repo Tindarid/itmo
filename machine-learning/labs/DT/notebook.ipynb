{
 "cells": [
  {
   "cell_type": "code",
   "execution_count": 1,
   "metadata": {},
   "outputs": [],
   "source": [
    "import pandas as pd\n",
    "import numpy as np\n",
    "import matplotlib.pyplot as plt\n",
    "\n",
    "from sklearn.tree import DecisionTreeClassifier, plot_tree\n",
    "from sklearn.metrics import accuracy_score\n",
    "\n",
    "from tqdm.notebook import tqdm\n",
    "from collections import Counter\n",
    "import random"
   ]
  },
  {
   "cell_type": "code",
   "execution_count": 2,
   "metadata": {},
   "outputs": [],
   "source": [
    "def read_dataset_internal(name):\n",
    "    contents = pd.read_csv(name)\n",
    "    X = contents.drop(\"y\", axis=1)\n",
    "    Y = contents[\"y\"]\n",
    "    return (X.values, Y.values)\n",
    "\n",
    "def read_dataset(n, part):\n",
    "    name = \"data/\"\n",
    "    if n < 10:\n",
    "        name += \"0\"\n",
    "    name += str(n) + \"_\" + part + \".csv\"\n",
    "    return read_dataset_internal(name)\n",
    "\n",
    "def read_all_datasets():\n",
    "    data = []\n",
    "    for i in range(1, 22):\n",
    "        data.append({\n",
    "            \"test\": read_dataset(i, \"test\"),\n",
    "            \"train\": read_dataset(i, \"train\"),\n",
    "            \"name\": str(i)\n",
    "        })\n",
    "    return data"
   ]
  },
  {
   "cell_type": "code",
   "execution_count": 3,
   "metadata": {},
   "outputs": [],
   "source": [
    "data = read_all_datasets()"
   ]
  },
  {
   "cell_type": "code",
   "execution_count": 4,
   "metadata": {},
   "outputs": [],
   "source": [
    "def get_params_for_tree():\n",
    "    p = []\n",
    "    for cr in [\"gini\", \"entropy\"]:\n",
    "        for s in [\"best\", \"random\"]:\n",
    "            for h in range(1, 30):\n",
    "                p.append({\n",
    "                    \"crit\": cr,\n",
    "                    \"split\": s,\n",
    "                    \"height\": h\n",
    "                })\n",
    "    return p\n",
    "\n",
    "def get_params_for_forest():\n",
    "    p = []\n",
    "    for cr in [\"gini\", \"entropy\"]:\n",
    "        for s in [\"best\", \"random\"]:\n",
    "            p.append({\n",
    "                \"crit\": cr,\n",
    "                \"split\": s,\n",
    "            })\n",
    "    return p"
   ]
  },
  {
   "cell_type": "code",
   "execution_count": 5,
   "metadata": {},
   "outputs": [],
   "source": [
    "def get_model(X, Y, params):\n",
    "    clf = DecisionTreeClassifier(\n",
    "        criterion=params[\"crit\"], \n",
    "        splitter=params[\"split\"], \n",
    "        max_depth=params[\"height\"]\n",
    "    )\n",
    "    clf.fit(X, Y)\n",
    "    return clf\n",
    "\n",
    "def get_model_for_forest(X, Y, params):\n",
    "    clf = DecisionTreeClassifier(\n",
    "        criterion=params[\"crit\"], \n",
    "        splitter=params[\"split\"], \n",
    "        max_features=\"sqrt\"\n",
    "    )\n",
    "    clf.fit(X, Y)\n",
    "    return clf"
   ]
  },
  {
   "cell_type": "code",
   "execution_count": 6,
   "metadata": {},
   "outputs": [
    {
     "name": "stdout",
     "output_type": "stream",
     "text": [
      "accuracy:0.9597130242825607\n"
     ]
    },
    {
     "data": {
      "image/png": "[encoded data removed]",
      "text/plain": [
       "<Figure size 432x288 with 1 Axes>"
      ]
     },
     "metadata": {
      "needs_background": "light"
     },
     "output_type": "display_data"
    }
   ],
   "source": [
    "def see_tree(i, j):\n",
    "    params = get_params_for_tree()\n",
    "    m = get_model(data[i][\"test\"][0], data[i][\"test\"][1], params[j])\n",
    "    print(\"accuracy:\" + str(m.score(data[i][\"train\"][0], data[i][\"train\"][1])))\n",
    "    plot_tree(m)\n",
    "\n",
    "see_tree(5, 5)"
   ]
  },
  {
   "cell_type": "code",
   "execution_count": 7,
   "metadata": {},
   "outputs": [],
   "source": [
    "# Tree\n",
    "\n",
    "def tree():\n",
    "    result = {}\n",
    "    params = get_params_for_tree()\n",
    "    for d in tqdm(data):\n",
    "        for p in params:\n",
    "            (X, Y) = d[\"train\"]\n",
    "            m = get_model(X, Y, p)\n",
    "            (X, Y) = d[\"test\"]\n",
    "            acc = m.score(X, Y)\n",
    "            if result.get(d[\"name\"]) == None or result[d[\"name\"]][\"acc\"] < acc:\n",
    "                result[d[\"name\"]] = {\n",
    "                    \"params\": p,\n",
    "                    \"acc\": acc\n",
    "                }\n",
    "    return result"
   ]
  },
  {
   "cell_type": "code",
   "execution_count": 8,
   "metadata": {},
   "outputs": [],
   "source": [
    "def view_results(res):\n",
    "    columns = []\n",
    "    first_value = res[next(iter(res))]\n",
    "    for p in first_value:\n",
    "        if type(first_value[p]) is dict:\n",
    "            for k in first_value[p].keys():\n",
    "                columns.append(k)\n",
    "        else:\n",
    "            columns.append(p)\n",
    "    data = []\n",
    "    for r in res:\n",
    "        next_data = []\n",
    "        for i in res[r]:\n",
    "            if type(res[r][i]) is dict:\n",
    "                for k in res[r][i].values():\n",
    "                    next_data.append(k)\n",
    "            else:\n",
    "                next_data.append(res[r][i])\n",
    "        data.append(next_data)\n",
    "    return pd.DataFrame(np.array(data), columns=columns, index=range(1, len(res) + 1))"
   ]
  },
  {
   "cell_type": "code",
   "execution_count": 9,
   "metadata": {},
   "outputs": [
    {
     "data": {
      "application/vnd.jupyter.widget-view+json": {
       "model_id": "118225bf22b9461594744bf846552e25",
       "version_major": 2,
       "version_minor": 0
      },
      "text/plain": [
       "HBox(children=(HTML(value=''), FloatProgress(value=0.0, max=21.0), HTML(value='')))"
      ]
     },
     "metadata": {},
     "output_type": "display_data"
    },
    {
     "name": "stdout",
     "output_type": "stream",
     "text": [
      "\n"
     ]
    }
   ],
   "source": [
    "best_for_tree = tree()"
   ]
  },
  {
   "cell_type": "code",
   "execution_count": 17,
   "metadata": {
    "scrolled": false
   },
   "outputs": [
    {
     "data": {
      "text/html": [
       "<div>\n",
       "<style scoped>\n",
       "    .dataframe tbody tr th:only-of-type {\n",
       "        vertical-align: middle;\n",
       "    }\n",
       "\n",
       "    .dataframe tbody tr th {\n",
       "        vertical-align: top;\n",
       "    }\n",
       "\n",
       "    .dataframe thead th {\n",
       "        text-align: right;\n",
       "    }\n",
       "</style>\n",
       "<table border=\"1\" class=\"dataframe\">\n",
       "  <thead>\n",
       "    <tr style=\"text-align: right;\">\n",
       "      <th></th>\n",
       "      <th>crit</th>\n",
       "      <th>split</th>\n",
       "      <th>height</th>\n",
       "      <th>acc</th>\n",
       "    </tr>\n",
       "  </thead>\n",
       "  <tbody>\n",
       "    <tr>\n",
       "      <th>1</th>\n",
       "      <td>entropy</td>\n",
       "      <td>best</td>\n",
       "      <td>3</td>\n",
       "      <td>0.9997429966589566</td>\n",
       "    </tr>\n",
       "    <tr>\n",
       "      <th>2</th>\n",
       "      <td>entropy</td>\n",
       "      <td>best</td>\n",
       "      <td>9</td>\n",
       "      <td>0.6994910941475827</td>\n",
       "    </tr>\n",
       "    <tr>\n",
       "      <th>3</th>\n",
       "      <td>gini</td>\n",
       "      <td>best</td>\n",
       "      <td>1</td>\n",
       "      <td>1.0</td>\n",
       "    </tr>\n",
       "    <tr>\n",
       "      <th>4</th>\n",
       "      <td>entropy</td>\n",
       "      <td>best</td>\n",
       "      <td>5</td>\n",
       "      <td>0.9951304347826087</td>\n",
       "    </tr>\n",
       "    <tr>\n",
       "      <th>5</th>\n",
       "      <td>gini</td>\n",
       "      <td>best</td>\n",
       "      <td>1</td>\n",
       "      <td>0.9956709956709957</td>\n",
       "    </tr>\n",
       "    <tr>\n",
       "      <th>6</th>\n",
       "      <td>entropy</td>\n",
       "      <td>best</td>\n",
       "      <td>3</td>\n",
       "      <td>0.9988962472406181</td>\n",
       "    </tr>\n",
       "    <tr>\n",
       "      <th>7</th>\n",
       "      <td>entropy</td>\n",
       "      <td>best</td>\n",
       "      <td>3</td>\n",
       "      <td>0.9967441860465116</td>\n",
       "    </tr>\n",
       "    <tr>\n",
       "      <th>8</th>\n",
       "      <td>gini</td>\n",
       "      <td>best</td>\n",
       "      <td>2</td>\n",
       "      <td>0.997920997920998</td>\n",
       "    </tr>\n",
       "    <tr>\n",
       "      <th>9</th>\n",
       "      <td>entropy</td>\n",
       "      <td>best</td>\n",
       "      <td>5</td>\n",
       "      <td>0.8568627450980392</td>\n",
       "    </tr>\n",
       "    <tr>\n",
       "      <th>10</th>\n",
       "      <td>entropy</td>\n",
       "      <td>best</td>\n",
       "      <td>4</td>\n",
       "      <td>0.9979879275653923</td>\n",
       "    </tr>\n",
       "    <tr>\n",
       "      <th>11</th>\n",
       "      <td>gini</td>\n",
       "      <td>best</td>\n",
       "      <td>1</td>\n",
       "      <td>0.999195171026157</td>\n",
       "    </tr>\n",
       "    <tr>\n",
       "      <th>12</th>\n",
       "      <td>entropy</td>\n",
       "      <td>best</td>\n",
       "      <td>8</td>\n",
       "      <td>0.8753859107493686</td>\n",
       "    </tr>\n",
       "    <tr>\n",
       "      <th>13</th>\n",
       "      <td>entropy</td>\n",
       "      <td>best</td>\n",
       "      <td>7</td>\n",
       "      <td>0.6660550458715596</td>\n",
       "    </tr>\n",
       "    <tr>\n",
       "      <th>14</th>\n",
       "      <td>entropy</td>\n",
       "      <td>best</td>\n",
       "      <td>5</td>\n",
       "      <td>0.990351215746816</td>\n",
       "    </tr>\n",
       "    <tr>\n",
       "      <th>15</th>\n",
       "      <td>gini</td>\n",
       "      <td>best</td>\n",
       "      <td>1</td>\n",
       "      <td>1.0</td>\n",
       "    </tr>\n",
       "    <tr>\n",
       "      <th>16</th>\n",
       "      <td>gini</td>\n",
       "      <td>best</td>\n",
       "      <td>1</td>\n",
       "      <td>1.0</td>\n",
       "    </tr>\n",
       "    <tr>\n",
       "      <th>17</th>\n",
       "      <td>entropy</td>\n",
       "      <td>best</td>\n",
       "      <td>7</td>\n",
       "      <td>0.8419877163595757</td>\n",
       "    </tr>\n",
       "    <tr>\n",
       "      <th>18</th>\n",
       "      <td>entropy</td>\n",
       "      <td>best</td>\n",
       "      <td>5</td>\n",
       "      <td>0.9426656738644825</td>\n",
       "    </tr>\n",
       "    <tr>\n",
       "      <th>19</th>\n",
       "      <td>entropy</td>\n",
       "      <td>best</td>\n",
       "      <td>7</td>\n",
       "      <td>0.8334583645911477</td>\n",
       "    </tr>\n",
       "    <tr>\n",
       "      <th>20</th>\n",
       "      <td>entropy</td>\n",
       "      <td>best</td>\n",
       "      <td>7</td>\n",
       "      <td>0.9702852614896988</td>\n",
       "    </tr>\n",
       "    <tr>\n",
       "      <th>21</th>\n",
       "      <td>entropy</td>\n",
       "      <td>best</td>\n",
       "      <td>9</td>\n",
       "      <td>0.8142041851616995</td>\n",
       "    </tr>\n",
       "  </tbody>\n",
       "</table>\n",
       "</div>"
      ],
      "text/plain": [
       "       crit split height                 acc\n",
       "1   entropy  best      3  0.9997429966589566\n",
       "2   entropy  best      9  0.6994910941475827\n",
       "3      gini  best      1                 1.0\n",
       "4   entropy  best      5  0.9951304347826087\n",
       "5      gini  best      1  0.9956709956709957\n",
       "6   entropy  best      3  0.9988962472406181\n",
       "7   entropy  best      3  0.9967441860465116\n",
       "8      gini  best      2   0.997920997920998\n",
       "9   entropy  best      5  0.8568627450980392\n",
       "10  entropy  best      4  0.9979879275653923\n",
       "11     gini  best      1   0.999195171026157\n",
       "12  entropy  best      8  0.8753859107493686\n",
       "13  entropy  best      7  0.6660550458715596\n",
       "14  entropy  best      5   0.990351215746816\n",
       "15     gini  best      1                 1.0\n",
       "16     gini  best      1                 1.0\n",
       "17  entropy  best      7  0.8419877163595757\n",
       "18  entropy  best      5  0.9426656738644825\n",
       "19  entropy  best      7  0.8334583645911477\n",
       "20  entropy  best      7  0.9702852614896988\n",
       "21  entropy  best      9  0.8142041851616995"
      ]
     },
     "execution_count": 17,
     "metadata": {},
     "output_type": "execute_result"
    }
   ],
   "source": [
    "view_results(best_for_tree)"
   ]
  },
  {
   "cell_type": "code",
   "execution_count": 21,
   "metadata": {
    "scrolled": false
   },
   "outputs": [
    {
     "name": "stdout",
     "output_type": "stream",
     "text": [
      "Min height in dataset №3\n",
      "{'params': {'crit': 'gini', 'split': 'best', 'height': 1}, 'acc': 1.0}\n"
     ]
    },
    {
     "data": {
      "image/png": "[encoded data removed]",
      "text/plain": [
       "<Figure size 432x288 with 1 Axes>"
      ]
     },
     "metadata": {
      "needs_background": "light"
     },
     "output_type": "display_data"
    },
    {
     "data": {
      "image/png": "[encoded data removed]",
      "text/plain": [
       "<Figure size 432x288 with 1 Axes>"
      ]
     },
     "metadata": {
      "needs_background": "light"
     },
     "output_type": "display_data"
    },
    {
     "name": "stdout",
     "output_type": "stream",
     "text": [
      "Max height in dataset №2\n",
      "{'params': {'crit': 'entropy', 'split': 'best', 'height': 9}, 'acc': 0.6994910941475827}\n"
     ]
    },
    {
     "data": {
      "image/png": "[encoded data removed]",
      "text/plain": [
       "<Figure size 432x288 with 1 Axes>"
      ]
     },
     "metadata": {
      "needs_background": "light"
     },
     "output_type": "display_data"
    },
    {
     "data": {
      "image/png": "[encoded data removed]",
      "text/plain": [
       "<Figure size 432x288 with 1 Axes>"
      ]
     },
     "metadata": {
      "needs_background": "light"
     },
     "output_type": "display_data"
    }
   ],
   "source": [
    "# Plots\n",
    "\n",
    "def get_h(i):\n",
    "    return best_for_tree[i][\"params\"][\"height\"]\n",
    "\n",
    "def accuracy_by_height(ind, r, title):\n",
    "    plt.xlabel(\"Height\")\n",
    "    plt.ylabel(\"Accuracy\")\n",
    "    v = []\n",
    "    plt.title(title)\n",
    "    for h in r:\n",
    "        p = best_for_tree[ind][\"params\"].copy()\n",
    "        p[\"height\"] = h\n",
    "        \n",
    "        d = data[int(ind) - 1]\n",
    "        (X, Y) = d[\"train\"]\n",
    "        m = get_model(X, Y, p)\n",
    "        \n",
    "        (X, Y) = d[title]\n",
    "        v.append(m.score(X, Y))\n",
    "    plt.plot(r, v)\n",
    "    plt.show()\n",
    "    \n",
    "min_h_ind = \"1\"\n",
    "max_h_ind = \"1\"\n",
    "for r in best_for_tree:\n",
    "    if get_h(r) < get_h(min_h_ind):\n",
    "        min_h_ind = r\n",
    "    if get_h(r) > get_h(max_h_ind):\n",
    "        max_h_ind = r\n",
    "r = range(int(get_h(min_h_ind)), int(get_h(max_h_ind)) + 1)\n",
    "print(\"Min height in dataset №\" + min_h_ind)\n",
    "print(best_for_tree[min_h_ind])\n",
    "accuracy_by_height(min_h_ind, r, \"test\")\n",
    "accuracy_by_height(min_h_ind, r, \"train\")\n",
    "print(\"Max height in dataset №\" + max_h_ind)\n",
    "print(best_for_tree[max_h_ind])\n",
    "accuracy_by_height(max_h_ind, r, \"test\")\n",
    "accuracy_by_height(max_h_ind, r, \"train\")"
   ]
  },
  {
   "cell_type": "code",
   "execution_count": 12,
   "metadata": {},
   "outputs": [],
   "source": [
    "# Forest\n",
    "\n",
    "def get_random_sample(X, Y):\n",
    "    n = len(X)\n",
    "    new_X = []\n",
    "    new_Y = []\n",
    "    for i in range(n):\n",
    "        ind = random.randint(0, n - 1)\n",
    "        new_X.append(X[ind])\n",
    "        new_Y.append(Y[ind])\n",
    "    return (np.array(new_X), np.array(new_Y))\n",
    "\n",
    "def most_frequent(l): \n",
    "    return Counter(l).most_common(1)[0][0]\n",
    "\n",
    "def get_score(Y, P):\n",
    "    Y_P = []\n",
    "    for i in range(len(Y)):\n",
    "        Y_P.append(most_frequent([p[i] for p in P]))\n",
    "    return accuracy_score(Y, Y_P);\n",
    "\n",
    "def forest():\n",
    "    result = {}\n",
    "    params = get_params_for_forest()\n",
    "    for d in tqdm(data):\n",
    "        p_test = []\n",
    "        p_train = []\n",
    "        result[d[\"name\"]] = {}\n",
    "        for i in range(1, 200):\n",
    "            (X, Y) = d[\"train\"]\n",
    "            (X, Y) = get_random_sample(X, Y)\n",
    "            \n",
    "            p = params[random.randint(0, len(params) - 1)]\n",
    "            m = get_model_for_forest(X, Y, p)\n",
    "            \n",
    "            (X, _) = d[\"train\"]\n",
    "            p_train.append(m.predict(X))\n",
    "            (X, _) = d[\"test\"]\n",
    "            p_test.append(m.predict(X))\n",
    "\n",
    "        (_, Y) = d[\"train\"]\n",
    "        result[d[\"name\"]][\"accuracy_on_train\"] = get_score(Y, p_train)\n",
    "        \n",
    "        (_, Y) = d[\"test\"]\n",
    "        result[d[\"name\"]][\"accuracy_on_test\"] = get_score(Y, p_test)\n",
    "    return result"
   ]
  },
  {
   "cell_type": "code",
   "execution_count": 13,
   "metadata": {},
   "outputs": [
    {
     "data": {
      "application/vnd.jupyter.widget-view+json": {
       "model_id": "2ee0afe15dc04545b90b6bbcd9630d53",
       "version_major": 2,
       "version_minor": 0
      },
      "text/plain": [
       "HBox(children=(HTML(value=''), FloatProgress(value=0.0, max=21.0), HTML(value='')))"
      ]
     },
     "metadata": {},
     "output_type": "display_data"
    },
    {
     "name": "stdout",
     "output_type": "stream",
     "text": [
      "\n"
     ]
    },
    {
     "ename": "KeyboardInterrupt",
     "evalue": "",
     "output_type": "error",
     "traceback": [
      "\u001b[0;31m---------------------------------------------------------------------------\u001b[0m",
      "\u001b[0;31mKeyboardInterrupt\u001b[0m                         Traceback (most recent call last)",
      "\u001b[0;32m<ipython-input-13-5a090b1fc9b1>\u001b[0m in \u001b[0;36m<module>\u001b[0;34m\u001b[0m\n\u001b[0;32m----> 1\u001b[0;31m \u001b[0mview_results\u001b[0m\u001b[0;34m(\u001b[0m\u001b[0mforest\u001b[0m\u001b[0;34m(\u001b[0m\u001b[0;34m)\u001b[0m\u001b[0;34m)\u001b[0m\u001b[0;34m\u001b[0m\u001b[0;34m\u001b[0m\u001b[0m\n\u001b[0m",
      "\u001b[0;32m<ipython-input-12-1fbd02bf49f7>\u001b[0m in \u001b[0;36mforest\u001b[0;34m()\u001b[0m\n\u001b[1;32m     32\u001b[0m \u001b[0;34m\u001b[0m\u001b[0m\n\u001b[1;32m     33\u001b[0m             \u001b[0mp\u001b[0m \u001b[0;34m=\u001b[0m \u001b[0mparams\u001b[0m\u001b[0;34m[\u001b[0m\u001b[0mrandom\u001b[0m\u001b[0;34m.\u001b[0m\u001b[0mrandint\u001b[0m\u001b[0;34m(\u001b[0m\u001b[0;36m0\u001b[0m\u001b[0;34m,\u001b[0m \u001b[0mlen\u001b[0m\u001b[0;34m(\u001b[0m\u001b[0mparams\u001b[0m\u001b[0;34m)\u001b[0m \u001b[0;34m-\u001b[0m \u001b[0;36m1\u001b[0m\u001b[0;34m)\u001b[0m\u001b[0;34m]\u001b[0m\u001b[0;34m\u001b[0m\u001b[0;34m\u001b[0m\u001b[0m\n\u001b[0;32m---> 34\u001b[0;31m             \u001b[0mm\u001b[0m \u001b[0;34m=\u001b[0m \u001b[0mget_model_for_forest\u001b[0m\u001b[0;34m(\u001b[0m\u001b[0mX\u001b[0m\u001b[0;34m,\u001b[0m \u001b[0mY\u001b[0m\u001b[0;34m,\u001b[0m \u001b[0mp\u001b[0m\u001b[0;34m)\u001b[0m\u001b[0;34m\u001b[0m\u001b[0;34m\u001b[0m\u001b[0m\n\u001b[0m\u001b[1;32m     35\u001b[0m \u001b[0;34m\u001b[0m\u001b[0m\n\u001b[1;32m     36\u001b[0m             \u001b[0;34m(\u001b[0m\u001b[0mX\u001b[0m\u001b[0;34m,\u001b[0m \u001b[0m_\u001b[0m\u001b[0;34m)\u001b[0m \u001b[0;34m=\u001b[0m \u001b[0md\u001b[0m\u001b[0;34m[\u001b[0m\u001b[0;34m\"train\"\u001b[0m\u001b[0;34m]\u001b[0m\u001b[0;34m\u001b[0m\u001b[0;34m\u001b[0m\u001b[0m\n",
      "\u001b[0;32m<ipython-input-5-99de68156822>\u001b[0m in \u001b[0;36mget_model_for_forest\u001b[0;34m(X, Y, params)\u001b[0m\n\u001b[1;32m     14\u001b[0m         \u001b[0mmax_features\u001b[0m\u001b[0;34m=\u001b[0m\u001b[0;34m\"sqrt\"\u001b[0m\u001b[0;34m\u001b[0m\u001b[0;34m\u001b[0m\u001b[0m\n\u001b[1;32m     15\u001b[0m     )\n\u001b[0;32m---> 16\u001b[0;31m     \u001b[0mclf\u001b[0m\u001b[0;34m.\u001b[0m\u001b[0mfit\u001b[0m\u001b[0;34m(\u001b[0m\u001b[0mX\u001b[0m\u001b[0;34m,\u001b[0m \u001b[0mY\u001b[0m\u001b[0;34m)\u001b[0m\u001b[0;34m\u001b[0m\u001b[0;34m\u001b[0m\u001b[0m\n\u001b[0m\u001b[1;32m     17\u001b[0m     \u001b[0;32mreturn\u001b[0m \u001b[0mclf\u001b[0m\u001b[0;34m\u001b[0m\u001b[0;34m\u001b[0m\u001b[0m\n",
      "\u001b[0;32m~/.local/lib/python3.8/site-packages/sklearn/tree/_classes.py\u001b[0m in \u001b[0;36mfit\u001b[0;34m(self, X, y, sample_weight, check_input, X_idx_sorted)\u001b[0m\n\u001b[1;32m    896\u001b[0m         \"\"\"\n\u001b[1;32m    897\u001b[0m \u001b[0;34m\u001b[0m\u001b[0m\n\u001b[0;32m--> 898\u001b[0;31m         super().fit(\n\u001b[0m\u001b[1;32m    899\u001b[0m             \u001b[0mX\u001b[0m\u001b[0;34m,\u001b[0m \u001b[0my\u001b[0m\u001b[0;34m,\u001b[0m\u001b[0;34m\u001b[0m\u001b[0;34m\u001b[0m\u001b[0m\n\u001b[1;32m    900\u001b[0m             \u001b[0msample_weight\u001b[0m\u001b[0;34m=\u001b[0m\u001b[0msample_weight\u001b[0m\u001b[0;34m,\u001b[0m\u001b[0;34m\u001b[0m\u001b[0;34m\u001b[0m\u001b[0m\n",
      "\u001b[0;32m~/.local/lib/python3.8/site-packages/sklearn/tree/_classes.py\u001b[0m in \u001b[0;36mfit\u001b[0;34m(self, X, y, sample_weight, check_input, X_idx_sorted)\u001b[0m\n\u001b[1;32m    387\u001b[0m                                            min_impurity_split)\n\u001b[1;32m    388\u001b[0m \u001b[0;34m\u001b[0m\u001b[0m\n\u001b[0;32m--> 389\u001b[0;31m         \u001b[0mbuilder\u001b[0m\u001b[0;34m.\u001b[0m\u001b[0mbuild\u001b[0m\u001b[0;34m(\u001b[0m\u001b[0mself\u001b[0m\u001b[0;34m.\u001b[0m\u001b[0mtree_\u001b[0m\u001b[0;34m,\u001b[0m \u001b[0mX\u001b[0m\u001b[0;34m,\u001b[0m \u001b[0my\u001b[0m\u001b[0;34m,\u001b[0m \u001b[0msample_weight\u001b[0m\u001b[0;34m)\u001b[0m\u001b[0;34m\u001b[0m\u001b[0;34m\u001b[0m\u001b[0m\n\u001b[0m\u001b[1;32m    390\u001b[0m \u001b[0;34m\u001b[0m\u001b[0m\n\u001b[1;32m    391\u001b[0m         \u001b[0;32mif\u001b[0m \u001b[0mself\u001b[0m\u001b[0;34m.\u001b[0m\u001b[0mn_outputs_\u001b[0m \u001b[0;34m==\u001b[0m \u001b[0;36m1\u001b[0m \u001b[0;32mand\u001b[0m \u001b[0mis_classifier\u001b[0m\u001b[0;34m(\u001b[0m\u001b[0mself\u001b[0m\u001b[0;34m)\u001b[0m\u001b[0;34m:\u001b[0m\u001b[0;34m\u001b[0m\u001b[0;34m\u001b[0m\u001b[0m\n",
      "\u001b[0;31mKeyboardInterrupt\u001b[0m: "
     ]
    }
   ],
   "source": [
    "view_results(forest())"
   ]
  }
 ],
 "metadata": {
  "kernelspec": {
   "display_name": "Python 3",
   "language": "python",
   "name": "python3"
  },
  "language_info": {
   "codemirror_mode": {
    "name": "ipython",
    "version": 3
   },
   "file_extension": ".py",
   "mimetype": "text/x-python",
   "name": "python",
   "nbconvert_exporter": "python",
   "pygments_lexer": "ipython3",
   "version": "3.8.6"
  }
 },
 "nbformat": 4,
 "nbformat_minor": 4
}
