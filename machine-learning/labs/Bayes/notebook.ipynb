{
 "cells": [
  {
   "cell_type": "code",
   "execution_count": 1,
   "metadata": {},
   "outputs": [],
   "source": [
    "import numpy as np\n",
    "import os\n",
    "from itertools import islice\n",
    "import matplotlib.pyplot as plt\n",
    "from operator import itemgetter"
   ]
  },
  {
   "cell_type": "code",
   "execution_count": 2,
   "metadata": {},
   "outputs": [],
   "source": [
    "def get_words(f):\n",
    "    return f.readline().split()\n",
    "\n",
    "def read_from_file(file):\n",
    "    with open(file, \"r\") as f:\n",
    "        title = get_words(f)[1:]\n",
    "        get_words(f)\n",
    "        message = get_words(f)\n",
    "        return title + message, int(\"legit\" in file)"
   ]
  },
  {
   "cell_type": "code",
   "execution_count": 3,
   "metadata": {},
   "outputs": [],
   "source": [
    "def read_from_directory(dirname):\n",
    "    files = [os.path.join(dirname, file) for file in os.listdir(dirname) if os.path.isfile(os.path.join(dirname, file))]\n",
    "    return list(map(read_from_file, files))"
   ]
  },
  {
   "cell_type": "code",
   "execution_count": 4,
   "metadata": {},
   "outputs": [],
   "source": [
    "def read_dataset():\n",
    "    return [read_from_directory(\"data/part\" + str(i)) for i in range(1, 11)]      "
   ]
  },
  {
   "cell_type": "code",
   "execution_count": 5,
   "metadata": {},
   "outputs": [],
   "source": [
    "dataset = read_dataset()"
   ]
  },
  {
   "cell_type": "code",
   "execution_count": 6,
   "metadata": {},
   "outputs": [],
   "source": [
    "# From examples https://docs.python.org/release/2.3.5/lib/itertools-example.html\n",
    "def window(seq, n):\n",
    "    it = iter(seq)\n",
    "    result = tuple(islice(it, n))\n",
    "    if len(result) == n:\n",
    "        yield result\n",
    "    for elem in it:\n",
    "        result = result[1:] + (elem,)\n",
    "        yield result"
   ]
  },
  {
   "cell_type": "code",
   "execution_count": 7,
   "metadata": {},
   "outputs": [],
   "source": [
    "class BayesClassificator():\n",
    "    def __init__(self, alpha, n, lambdas=[1e100, 1e100]):\n",
    "        self.class_count = [0, 0]\n",
    "        self.class_count_words = [{}, {}]\n",
    "        self.all_words = {}\n",
    "        self.initial_ans = [np.longdouble(0), np.longdouble(0)]\n",
    "        self.alpha = alpha\n",
    "        self.n = n\n",
    "        self.lambdas = lambdas\n",
    "    \n",
    "    def inc_letter(self, letter, cl):\n",
    "        words = {}\n",
    "        for w in window(letter, self.n):\n",
    "            self.all_words[w] = True\n",
    "            if w in words:\n",
    "                continue\n",
    "            words[w] = True\n",
    "            if w not in self.class_count_words[cl]:\n",
    "                self.class_count_words[cl][w] = 0\n",
    "            self.class_count_words[cl][w] += 1\n",
    "        self.class_count[cl] += 1\n",
    "    \n",
    "    def word_prob(self, cl, word, reverse):\n",
    "        if word in self.class_count_words[cl]:\n",
    "            cnt = self.class_count_words[cl][word]\n",
    "        else:\n",
    "            cnt = 0\n",
    "        if reverse:\n",
    "            cnt = self.class_count[cl] - cnt\n",
    "        return np.longdouble(cnt + self.alpha) / np.longdouble((2 * self.alpha + self.class_count[cl]))\n",
    "        \n",
    "    def calc_initial_ans(self):\n",
    "        for i in range(0, 2):\n",
    "            self.initial_ans[i] = self.class_count[i] / (self.class_count[0] + self.class_count[1])\n",
    "            self.initial_ans[i] *= self.lambdas[i]\n",
    "            self.initial_ans[i] = np.longdouble(self.initial_ans[i])\n",
    "            for j in self.all_words:\n",
    "                self.initial_ans[i] *= self.word_prob(i, j, True)\n",
    "    \n",
    "    def letter_class(self, letter):\n",
    "        ans = self.initial_ans.copy()\n",
    "        words = {}\n",
    "        for w in window(letter, self.n):\n",
    "            if w in words:\n",
    "                continue\n",
    "            words[w] = True\n",
    "            if w not in self.all_words:\n",
    "                continue\n",
    "            for i in range(0, 2):\n",
    "                ans[i] /= self.word_prob(i, w, True)\n",
    "                ans[i] *= self.word_prob(i, w, False)\n",
    "        return ans"
   ]
  },
  {
   "cell_type": "code",
   "execution_count": 8,
   "metadata": {},
   "outputs": [],
   "source": [
    "def get_stat():\n",
    "    alphas = [10 ** (-i) for i in range(95, 105)]\n",
    "    stat = []\n",
    "    for n in [1, 2, 3]:\n",
    "        for a in alphas:\n",
    "            total = 0\n",
    "            cnt = 0\n",
    "            for i in range(0, 10):\n",
    "                b = BayesClassificator(a, n)\n",
    "                for ii in range(0, 10):\n",
    "                    if ii == i:\n",
    "                        continue\n",
    "                    for j in dataset[ii]:\n",
    "                        b.inc_letter(j[0], j[1])\n",
    "                b.calc_initial_ans()\n",
    "                for j in dataset[i]:\n",
    "                    let_class = b.letter_class(j[0])\n",
    "                    let_class = 0 if let_class[0] > let_class[1] else 1\n",
    "                    cnt += int(let_class == j[1])\n",
    "                    total += 1\n",
    "            acc = cnt / total\n",
    "            stat.append({ \"alpha\": a, \"n\": n, \"accuracy\": acc })\n",
    "    return stat"
   ]
  },
  {
   "cell_type": "code",
   "execution_count": 9,
   "metadata": {},
   "outputs": [],
   "source": [
    "# ROC\n",
    "\n",
    "def roc(alpha, n, lambdas):\n",
    "    b = BayesClassificator(alpha, n, lambdas)\n",
    "    for i in range(0, 10):\n",
    "        for j in dataset[i]:\n",
    "            b.inc_letter(j[0], j[1])\n",
    "    b.calc_initial_ans()\n",
    "    src = []\n",
    "    for i in range(0, 10):\n",
    "        for j in dataset[i]:\n",
    "            src.append((b.letter_class(j[0])[0], j[1]))\n",
    "    src = sorted(src, key=itemgetter(0))\n",
    "    m = 0\n",
    "    n = 0\n",
    "    for i in src:\n",
    "        if i[1] == 0:\n",
    "            m += 1\n",
    "        else:\n",
    "            n += 1\n",
    "    x = []\n",
    "    y = []\n",
    "    cur_x = 0.0\n",
    "    cur_y = 0.0\n",
    "    for i in src:\n",
    "        if i[1] == 0:\n",
    "            cur_x += 1.0 / m\n",
    "        else:\n",
    "            cur_y += 1.0 / n\n",
    "        x.append(cur_x)\n",
    "        y.append(cur_y)\n",
    "    plt.figure(figsize=(5, 5))\n",
    "    plt.plot(x, y)\n",
    "    plt.plot([0.0, 1.0], [0.0, 1.0])\n",
    "    plt.show()\n"
   ]
  },
  {
   "cell_type": "code",
   "execution_count": 10,
   "metadata": {},
   "outputs": [],
   "source": [
    "stat = get_stat()"
   ]
  },
  {
   "cell_type": "code",
   "execution_count": 14,
   "metadata": {},
   "outputs": [
    {
     "name": "stdout",
     "output_type": "stream",
     "text": [
      "{'alpha': 1e-95, 'n': 1, 'accuracy': 0.9669724770642202}\n",
      "{'alpha': 1e-96, 'n': 1, 'accuracy': 0.9669724770642202}\n",
      "{'alpha': 1e-97, 'n': 1, 'accuracy': 0.9669724770642202}\n",
      "{'alpha': 1e-98, 'n': 1, 'accuracy': 0.9669724770642202}\n",
      "{'alpha': 1e-99, 'n': 1, 'accuracy': 0.9669724770642202}\n",
      "{'alpha': 1e-100, 'n': 1, 'accuracy': 0.9669724770642202}\n",
      "{'alpha': 1e-101, 'n': 1, 'accuracy': 0.9660550458715597}\n",
      "{'alpha': 1e-102, 'n': 1, 'accuracy': 0.9660550458715597}\n",
      "{'alpha': 1e-103, 'n': 1, 'accuracy': 0.9660550458715597}\n",
      "{'alpha': 1e-104, 'n': 1, 'accuracy': 0.9651376146788991}\n",
      "{'alpha': 1e-95, 'n': 2, 'accuracy': 0.9431192660550459}\n",
      "{'alpha': 1e-96, 'n': 2, 'accuracy': 0.9431192660550459}\n",
      "{'alpha': 1e-97, 'n': 2, 'accuracy': 0.9431192660550459}\n",
      "{'alpha': 1e-98, 'n': 2, 'accuracy': 0.9422018348623853}\n",
      "{'alpha': 1e-99, 'n': 2, 'accuracy': 0.9412844036697248}\n",
      "{'alpha': 1e-100, 'n': 2, 'accuracy': 0.9412844036697248}\n",
      "{'alpha': 1e-101, 'n': 2, 'accuracy': 0.9403669724770642}\n",
      "{'alpha': 1e-102, 'n': 2, 'accuracy': 0.9394495412844037}\n",
      "{'alpha': 1e-103, 'n': 2, 'accuracy': 0.9394495412844037}\n",
      "{'alpha': 1e-104, 'n': 2, 'accuracy': 0.9394495412844037}\n",
      "{'alpha': 1e-95, 'n': 3, 'accuracy': 0.9422018348623853}\n",
      "{'alpha': 1e-96, 'n': 3, 'accuracy': 0.9422018348623853}\n",
      "{'alpha': 1e-97, 'n': 3, 'accuracy': 0.9422018348623853}\n",
      "{'alpha': 1e-98, 'n': 3, 'accuracy': 0.9422018348623853}\n",
      "{'alpha': 1e-99, 'n': 3, 'accuracy': 0.9422018348623853}\n",
      "{'alpha': 1e-100, 'n': 3, 'accuracy': 0.9422018348623853}\n",
      "{'alpha': 1e-101, 'n': 3, 'accuracy': 0.9422018348623853}\n",
      "{'alpha': 1e-102, 'n': 3, 'accuracy': 0.9422018348623853}\n",
      "{'alpha': 1e-103, 'n': 3, 'accuracy': 0.9412844036697248}\n",
      "{'alpha': 1e-104, 'n': 3, 'accuracy': 0.9412844036697248}\n"
     ]
    }
   ],
   "source": [
    "for i in stat:\n",
    "    print(i)"
   ]
  },
  {
   "cell_type": "code",
   "execution_count": 74,
   "metadata": {},
   "outputs": [
    {
     "data": {
      "image/png": "[encoded data removed]",
      "text/plain": [
       "<Figure size 360x360 with 1 Axes>"
      ]
     },
     "metadata": {
      "needs_background": "light"
     },
     "output_type": "display_data"
    }
   ],
   "source": [
    "roc(1e-5, 1, [1e100, 1e100])"
   ]
  },
  {
   "cell_type": "code",
   "execution_count": 75,
   "metadata": {},
   "outputs": [
    {
     "data": {
      "image/png": "[encoded data removed]",
      "text/plain": [
       "<Figure size 360x360 with 1 Axes>"
      ]
     },
     "metadata": {
      "needs_background": "light"
     },
     "output_type": "display_data"
    }
   ],
   "source": [
    "roc(1e-95, 1, [1e100, 1e100])"
   ]
  },
  {
   "cell_type": "code",
   "execution_count": 148,
   "metadata": {},
   "outputs": [],
   "source": [
    "def l_graph(alpha, init, lambds):\n",
    "    x = []\n",
    "    y = []\n",
    "    for s in range(len(lambds)):\n",
    "        l = lambds[s]\n",
    "        b = BayesClassificator(alpha, 1, [l, init])\n",
    "        for i in range(0, 10):\n",
    "            for j in dataset[i]:\n",
    "                b.inc_letter(j[0], j[1])\n",
    "        b.calc_initial_ans()\n",
    "        src = []\n",
    "        cnt = 0\n",
    "        total = 0\n",
    "        for i in range(0, 10):\n",
    "            for j in dataset[i]:\n",
    "                let_class = b.letter_class(j[0])\n",
    "                let_class = 0 if let_class[0] > let_class[1] else 1\n",
    "                cnt += int(let_class == j[1])\n",
    "                total += 1\n",
    "        x.append(s)\n",
    "        y.append(cnt / total)\n",
    "    plt.plot(x, y)\n",
    "    plt.show()"
   ]
  },
  {
   "cell_type": "code",
   "execution_count": 77,
   "metadata": {},
   "outputs": [],
   "source": [
    "def all_legit_correct(alpha, lambdas):\n",
    "    b = BayesClassificator(alpha, 1, lambdas)\n",
    "    for i in range(0, 10):\n",
    "        for j in dataset[i]:\n",
    "            b.inc_letter(j[0], j[1])\n",
    "    b.calc_initial_ans()\n",
    "    for i in range(0, 10):\n",
    "        for j in dataset[i]:\n",
    "            let_class = b.letter_class(j[0])\n",
    "            let_class = 0 if let_class[0] > let_class[1] else 1\n",
    "            if let_class != j[1] and j[1] == 1:\n",
    "                return False\n",
    "    return True"
   ]
  },
  {
   "cell_type": "code",
   "execution_count": 140,
   "metadata": {},
   "outputs": [
    {
     "name": "stdout",
     "output_type": "stream",
     "text": [
      "False\n",
      "True\n"
     ]
    }
   ],
   "source": [
    "print(all_legit_correct(1, [1, 1]))\n",
    "print(all_legit_correct(1, [1, 1e100]))"
   ]
  },
  {
   "cell_type": "code",
   "execution_count": 150,
   "metadata": {},
   "outputs": [
    {
     "data": {
      "image/png": "[encoded data removed]",
      "text/plain": [
       "<Figure size 432x288 with 1 Axes>"
      ]
     },
     "metadata": {
      "needs_background": "light"
     },
     "output_type": "display_data"
    }
   ],
   "source": [
    "l_graph(1, 1e10, [10 ** i for i in range(0, 100, 10)])"
   ]
  },
  {
   "cell_type": "code",
   "execution_count": null,
   "metadata": {},
   "outputs": [],
   "source": []
  }
 ],
 "metadata": {
  "kernelspec": {
   "display_name": "Python 3",
   "language": "python",
   "name": "python3"
  },
  "language_info": {
   "codemirror_mode": {
    "name": "ipython",
    "version": 3
   },
   "file_extension": ".py",
   "mimetype": "text/x-python",
   "name": "python",
   "nbconvert_exporter": "python",
   "pygments_lexer": "ipython3",
   "version": "3.8.6"
  }
 },
 "nbformat": 4,
 "nbformat_minor": 4
}
