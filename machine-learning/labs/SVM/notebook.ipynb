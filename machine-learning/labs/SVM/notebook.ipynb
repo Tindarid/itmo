{
 "cells": [
  {
   "cell_type": "code",
   "execution_count": 1,
   "metadata": {},
   "outputs": [],
   "source": [
    "import pandas as pd\n",
    "import matplotlib.pyplot as plt\n",
    "from matplotlib.colors import ListedColormap\n",
    "from os import system\n",
    "from math import exp\n",
    "import numpy as np\n",
    "from copy import deepcopy\n",
    "from tqdm.notebook import tqdm"
   ]
  },
  {
   "cell_type": "code",
   "execution_count": 2,
   "metadata": {},
   "outputs": [
    {
     "data": {
      "text/html": [
       "<div>\n",
       "<style scoped>\n",
       "    .dataframe tbody tr th:only-of-type {\n",
       "        vertical-align: middle;\n",
       "    }\n",
       "\n",
       "    .dataframe tbody tr th {\n",
       "        vertical-align: top;\n",
       "    }\n",
       "\n",
       "    .dataframe thead th {\n",
       "        text-align: right;\n",
       "    }\n",
       "</style>\n",
       "<table border=\"1\" class=\"dataframe\">\n",
       "  <thead>\n",
       "    <tr style=\"text-align: right;\">\n",
       "      <th></th>\n",
       "      <th>x</th>\n",
       "      <th>y</th>\n",
       "      <th>class</th>\n",
       "    </tr>\n",
       "  </thead>\n",
       "  <tbody>\n",
       "    <tr>\n",
       "      <th>0</th>\n",
       "      <td>0.051267</td>\n",
       "      <td>0.699560</td>\n",
       "      <td>P</td>\n",
       "    </tr>\n",
       "    <tr>\n",
       "      <th>1</th>\n",
       "      <td>-0.092742</td>\n",
       "      <td>0.684940</td>\n",
       "      <td>P</td>\n",
       "    </tr>\n",
       "    <tr>\n",
       "      <th>2</th>\n",
       "      <td>-0.213710</td>\n",
       "      <td>0.692250</td>\n",
       "      <td>P</td>\n",
       "    </tr>\n",
       "    <tr>\n",
       "      <th>3</th>\n",
       "      <td>-0.375000</td>\n",
       "      <td>0.502190</td>\n",
       "      <td>P</td>\n",
       "    </tr>\n",
       "    <tr>\n",
       "      <th>4</th>\n",
       "      <td>-0.513250</td>\n",
       "      <td>0.465640</td>\n",
       "      <td>P</td>\n",
       "    </tr>\n",
       "    <tr>\n",
       "      <th>...</th>\n",
       "      <td>...</td>\n",
       "      <td>...</td>\n",
       "      <td>...</td>\n",
       "    </tr>\n",
       "    <tr>\n",
       "      <th>113</th>\n",
       "      <td>-0.720620</td>\n",
       "      <td>0.538740</td>\n",
       "      <td>N</td>\n",
       "    </tr>\n",
       "    <tr>\n",
       "      <th>114</th>\n",
       "      <td>-0.593890</td>\n",
       "      <td>0.494880</td>\n",
       "      <td>N</td>\n",
       "    </tr>\n",
       "    <tr>\n",
       "      <th>115</th>\n",
       "      <td>-0.484450</td>\n",
       "      <td>0.999270</td>\n",
       "      <td>N</td>\n",
       "    </tr>\n",
       "    <tr>\n",
       "      <th>116</th>\n",
       "      <td>-0.006336</td>\n",
       "      <td>0.999270</td>\n",
       "      <td>N</td>\n",
       "    </tr>\n",
       "    <tr>\n",
       "      <th>117</th>\n",
       "      <td>0.632650</td>\n",
       "      <td>-0.030612</td>\n",
       "      <td>N</td>\n",
       "    </tr>\n",
       "  </tbody>\n",
       "</table>\n",
       "<p>118 rows × 3 columns</p>\n",
       "</div>"
      ],
      "text/plain": [
       "            x         y class\n",
       "0    0.051267  0.699560     P\n",
       "1   -0.092742  0.684940     P\n",
       "2   -0.213710  0.692250     P\n",
       "3   -0.375000  0.502190     P\n",
       "4   -0.513250  0.465640     P\n",
       "..        ...       ...   ...\n",
       "113 -0.720620  0.538740     N\n",
       "114 -0.593890  0.494880     N\n",
       "115 -0.484450  0.999270     N\n",
       "116 -0.006336  0.999270     N\n",
       "117  0.632650 -0.030612     N\n",
       "\n",
       "[118 rows x 3 columns]"
      ]
     },
     "execution_count": 2,
     "metadata": {},
     "output_type": "execute_result"
    }
   ],
   "source": [
    "# Read data 1\n",
    "\n",
    "data1 = pd.read_csv(\"chips.csv\")\n",
    "data1"
   ]
  },
  {
   "cell_type": "code",
   "execution_count": 3,
   "metadata": {},
   "outputs": [
    {
     "data": {
      "text/html": [
       "<div>\n",
       "<style scoped>\n",
       "    .dataframe tbody tr th:only-of-type {\n",
       "        vertical-align: middle;\n",
       "    }\n",
       "\n",
       "    .dataframe tbody tr th {\n",
       "        vertical-align: top;\n",
       "    }\n",
       "\n",
       "    .dataframe thead th {\n",
       "        text-align: right;\n",
       "    }\n",
       "</style>\n",
       "<table border=\"1\" class=\"dataframe\">\n",
       "  <thead>\n",
       "    <tr style=\"text-align: right;\">\n",
       "      <th></th>\n",
       "      <th>x</th>\n",
       "      <th>y</th>\n",
       "      <th>class</th>\n",
       "    </tr>\n",
       "  </thead>\n",
       "  <tbody>\n",
       "    <tr>\n",
       "      <th>0</th>\n",
       "      <td>1</td>\n",
       "      <td>4.4</td>\n",
       "      <td>N</td>\n",
       "    </tr>\n",
       "    <tr>\n",
       "      <th>1</th>\n",
       "      <td>1</td>\n",
       "      <td>3.9</td>\n",
       "      <td>N</td>\n",
       "    </tr>\n",
       "    <tr>\n",
       "      <th>2</th>\n",
       "      <td>1</td>\n",
       "      <td>4.0</td>\n",
       "      <td>P</td>\n",
       "    </tr>\n",
       "    <tr>\n",
       "      <th>3</th>\n",
       "      <td>1</td>\n",
       "      <td>4.0</td>\n",
       "      <td>N</td>\n",
       "    </tr>\n",
       "    <tr>\n",
       "      <th>4</th>\n",
       "      <td>1</td>\n",
       "      <td>3.5</td>\n",
       "      <td>N</td>\n",
       "    </tr>\n",
       "    <tr>\n",
       "      <th>...</th>\n",
       "      <td>...</td>\n",
       "      <td>...</td>\n",
       "      <td>...</td>\n",
       "    </tr>\n",
       "    <tr>\n",
       "      <th>217</th>\n",
       "      <td>23</td>\n",
       "      <td>2.1</td>\n",
       "      <td>P</td>\n",
       "    </tr>\n",
       "    <tr>\n",
       "      <th>218</th>\n",
       "      <td>23</td>\n",
       "      <td>4.2</td>\n",
       "      <td>N</td>\n",
       "    </tr>\n",
       "    <tr>\n",
       "      <th>219</th>\n",
       "      <td>23</td>\n",
       "      <td>2.1</td>\n",
       "      <td>P</td>\n",
       "    </tr>\n",
       "    <tr>\n",
       "      <th>220</th>\n",
       "      <td>23</td>\n",
       "      <td>5.2</td>\n",
       "      <td>N</td>\n",
       "    </tr>\n",
       "    <tr>\n",
       "      <th>221</th>\n",
       "      <td>23</td>\n",
       "      <td>2.0</td>\n",
       "      <td>P</td>\n",
       "    </tr>\n",
       "  </tbody>\n",
       "</table>\n",
       "<p>222 rows × 3 columns</p>\n",
       "</div>"
      ],
      "text/plain": [
       "      x    y class\n",
       "0     1  4.4     N\n",
       "1     1  3.9     N\n",
       "2     1  4.0     P\n",
       "3     1  4.0     N\n",
       "4     1  3.5     N\n",
       "..   ..  ...   ...\n",
       "217  23  2.1     P\n",
       "218  23  4.2     N\n",
       "219  23  2.1     P\n",
       "220  23  5.2     N\n",
       "221  23  2.0     P\n",
       "\n",
       "[222 rows x 3 columns]"
      ]
     },
     "execution_count": 3,
     "metadata": {},
     "output_type": "execute_result"
    }
   ],
   "source": [
    "# Read data 2\n",
    "\n",
    "data2 = pd.read_csv(\"geyser.csv\")\n",
    "data2"
   ]
  },
  {
   "cell_type": "code",
   "execution_count": 4,
   "metadata": {},
   "outputs": [],
   "source": [
    "# Convert to arrays\n",
    "\n",
    "def convert_classes(c):\n",
    "    ans = []\n",
    "    for i in c:\n",
    "        if i == 'N':\n",
    "            ans.append(-1)\n",
    "        else:\n",
    "            ans.append(1)\n",
    "    return ans\n",
    "    \n",
    "classes = []\n",
    "attributes = []\n",
    "\n",
    "classes.append(convert_classes(data1[\"class\"].values))\n",
    "attributes.append(data1.drop(\"class\", axis=1).values)\n",
    "\n",
    "classes.append(convert_classes(data2[\"class\"].values))\n",
    "attributes.append(data2.drop(\"class\", axis=1).values)"
   ]
  },
  {
   "cell_type": "code",
   "execution_count": 5,
   "metadata": {
    "scrolled": true
   },
   "outputs": [
    {
     "name": "stdout",
     "output_type": "stream",
     "text": [
      "#include <iostream>\r\n",
      "#include <vector>\r\n",
      "#include <cmath>\r\n",
      "#include <algorithm>\r\n",
      "#include <random>\r\n",
      "#include <ctime>\r\n",
      "#include <iomanip>\r\n",
      "#include <cassert>\r\n",
      "using namespace std;\r\n",
      "\r\n",
      "using vecd = vector<long double>;\r\n",
      "using rvecd = const vector<long double> &;\r\n",
      "\r\n",
      "vector<vector<long double>> K;\r\n",
      "vector<long long> Y;\r\n",
      "long double C;\r\n",
      "\r\n",
      "void in() {\r\n",
      "  int N; cin >> N;\r\n",
      "  K.resize(N); Y.resize(N);\r\n",
      "\r\n",
      "  for (int i = 0; i < N; ++i) {\r\n",
      "    K[i].resize(N);\r\n",
      "    for (int j = 0; j < N; ++j) {\r\n",
      "      cin >> K[i][j];\r\n",
      "    }\r\n",
      "    cin >> Y[i];\r\n",
      "  }\r\n",
      "\r\n",
      "  cin >> C;\r\n",
      "}\r\n",
      "\r\n",
      "void out(rvecd ans) {\r\n",
      "  cout << fixed << setprecision(20);\r\n",
      "  for (auto i : ans) {\r\n",
      "    cout << i << \"\\n\";\r\n",
      "  }\r\n",
      "}\r\n",
      "\r\n",
      "void out_debug(rvecd ans) {\r\n",
      "  cout << fixed << setprecision(20);\r\n",
      "  for (auto i : ans) {\r\n",
      "    cout << i << \" \";\r\n",
      "  }\r\n",
      "  cout << endl;\r\n",
      "}\r\n",
      "\r\n",
      "long double count_without_b(rvecd ans, int i) {\r\n",
      "  long double a = 0.0;\r\n",
      "  for (size_t j = 0; j < K.size(); ++j) {\r\n",
      "    a += K[j][i] * Y[j] * ans[j];\r\n",
      "  }\r\n",
      "  return a;\r\n",
      "}\r\n",
      "\r\n",
      "void out_stat(rvecd ans) {\r\n",
      "  size_t good = 0;\r\n",
      "  for (size_t i = 0; i < K.size(); ++i) {\r\n",
      "    long double a = ans.back() + count_without_b(ans, i);\r\n",
      "    if (a * Y[i] > 0) {\r\n",
      "      good++;\r\n",
      "    }\r\n",
      "  }\r\n",
      "  cout << \"good: \" << good << \", bad: \" << K.size() - good << endl;\r\n",
      "}\r\n",
      "\r\n",
      "inline long double f(size_t ind, rvecd lambda, long double b) {\r\n",
      "  for (size_t i = 0; i < K.size(); ++i) {\r\n",
      "    b += lambda[i] * Y[i] * K[ind][i];\r\n",
      "  }\r\n",
      "  return b;\r\n",
      "}\r\n",
      "\r\n",
      "inline std::pair<long double, long double> LH(size_t i, size_t j, rvecd l) {\r\n",
      "  if (Y[i] != Y[j]) {\r\n",
      "    return {max(0.0L, l[j] - l[i]), min(static_cast<long double>(C), C + l[j] - l[i])};\r\n",
      "  } else {\r\n",
      "    return {max(0.0L, l[j] + l[i] - C), min(static_cast<long double>(C), l[j] + l[i])};\r\n",
      "  }\r\n",
      "}\r\n",
      "\r\n",
      "inline long double count_for_b(long double b1, long double b2, size_t i, size_t j, rvecd l) {\r\n",
      "  if (0 < l[j] and l[j] < C) {\r\n",
      "    return b1;\r\n",
      "  } else if (0 < l[i] and l[i] < C) {\r\n",
      "    return b2;\r\n",
      "  } else {\r\n",
      "    return (b1 + b2) / 2;\r\n",
      "  }\r\n",
      "}\r\n",
      "\r\n",
      "vecd sol() {\r\n",
      "  constexpr long double EPS = 1e-16;\r\n",
      "  constexpr int max_passes = 100;\r\n",
      "  int passes = 0;\r\n",
      "\r\n",
      "  size_t N = K.size();\r\n",
      "  vecd lambda(N);\r\n",
      "  long double b = 0.0;\r\n",
      "\r\n",
      "  srand(time(nullptr));\r\n",
      "  while (passes < max_passes) {\r\n",
      "    int changed_alphas = 0;\r\n",
      "\r\n",
      "    long double E_i, E_j, l_i_old, l_j_old, L, H, eta, diff_j, diff_i, clipped_j, b1, b2;\r\n",
      "    for (size_t i = 0, j; i < N; ++i) {\r\n",
      "      E_i = f(i, lambda, b) - Y[i];\r\n",
      "\r\n",
      "      if (!((Y[i] * E_i < -EPS and lambda[i] < C) or (Y[i] * E_i > EPS and lambda[i] > 0))) {\r\n",
      "        continue;\r\n",
      "      }\r\n",
      "\r\n",
      "      j = (i + (rand() % (N - 1)) + 1 % N) % N;\r\n",
      "      E_j = f(j, lambda, b) - Y[j];\r\n",
      "\r\n",
      "      l_i_old = lambda[i], l_j_old = lambda[j];\r\n",
      "\r\n",
      "      auto LH_ = LH(i, j, lambda);\r\n",
      "      L = LH_.first, H = LH_.second;\r\n",
      "      if (H - L < EPS) {\r\n",
      "        continue;\r\n",
      "      }\r\n",
      "\r\n",
      "      eta = 2 * K[i][j] - K[i][i] - K[j][j];\r\n",
      "      if (eta + EPS > 0) {\r\n",
      "        continue;\r\n",
      "      }\r\n",
      "\r\n",
      "      lambda[j] = min(H, max(L, lambda[j] - Y[j] * (E_i - E_j) / eta));\r\n",
      "      diff_j = l_j_old - lambda[j];\r\n",
      "\r\n",
      "      lambda[i] += Y[i] * Y[j] * diff_j;\r\n",
      "      diff_i = l_i_old - lambda[i];\r\n",
      "\r\n",
      "      diff_j *= -1;\r\n",
      "      diff_i *= -1;\r\n",
      "\r\n",
      "      b1 = b - E_i - Y[i] * diff_i * K[i][i] - Y[j] * diff_j * K[i][j];\r\n",
      "      b2 = b - E_j - Y[i] * diff_i * K[i][j] - Y[j] * diff_j * K[j][j];\r\n",
      "      b = count_for_b(b1, b2, i, j, lambda);\r\n",
      "\r\n",
      "      changed_alphas++;\r\n",
      "    }\r\n",
      "\r\n",
      "    changed_alphas = 0;\r\n",
      "    if (!changed_alphas) {\r\n",
      "      passes++;\r\n",
      "    } else {\r\n",
      "      passes = 0;\r\n",
      "    }\r\n",
      "  }\r\n",
      "\r\n",
      "  lambda.push_back(b);\r\n",
      "  return lambda;\r\n",
      "}\r\n",
      "\r\n",
      "int main() {\r\n",
      "  in();\r\n",
      "  auto s = sol();\r\n",
      "  // out_debug(s);\r\n",
      "  // out_stat(s);\r\n",
      "  out(s);\r\n",
      "}\r\n"
     ]
    }
   ],
   "source": [
    "%cat \"E.cpp\""
   ]
  },
  {
   "cell_type": "code",
   "execution_count": 6,
   "metadata": {},
   "outputs": [],
   "source": [
    "# Using SMO from E.cpp\n",
    "\n",
    "def smo_cpp(K, Y, C):\n",
    "    input_file = \"input.txt\"\n",
    "    output_file = \"output.txt\"\n",
    "    execute = \"./E\"\n",
    "\n",
    "    f = open(input_file, \"w\")\n",
    "    N = len(K)\n",
    "    f.write(str(N) + \"\\n\")\n",
    "    for i in range(N):\n",
    "        for j in K[i]:\n",
    "            f.write(str(j) + \" \")\n",
    "        f.write(str(Y[i]) + \"\\n\")\n",
    "    f.write(str(C))\n",
    "    f.close()\n",
    "    \n",
    "    system(\"cat \" + input_file + \" | \" + execute + \" > \" + output_file)\n",
    "    \n",
    "    f = open(output_file, \"r\")\n",
    "    output = f.read()\n",
    "    f.close()\n",
    "    \n",
    "    return [float(x) for x in output.split()]"
   ]
  },
  {
   "cell_type": "code",
   "execution_count": 7,
   "metadata": {},
   "outputs": [],
   "source": [
    "# Get kernel matrix\n",
    "\n",
    "def get_K(src, f):\n",
    "    N = len(src)\n",
    "    ans = [[0.0 for i in range(N)] for i in range(N)]\n",
    "    for i in range(N):\n",
    "        for j in range(N):\n",
    "            ans[i][j] = f(src[i], src[j])\n",
    "    return ans"
   ]
  },
  {
   "cell_type": "code",
   "execution_count": 8,
   "metadata": {},
   "outputs": [],
   "source": [
    "# Get kernel functions\n",
    "\n",
    "def get_kernel_functions():\n",
    "    ans = []\n",
    "    ans.append({\"C\": 0.1, \"name\": \"linear\", \"func\": lambda x, y: x[0] * y[0] + x[1] * y[1]})\n",
    "    ans.append({\"C\": 10.0, \"name\": \"poly\", \"func\": lambda x, y: (x[0] * y[0] + x[1] * y[1]) ** 3})\n",
    "    ans.append({\"C\": 0.5, \"name\": \"gauss\", \n",
    "                 \"func\": lambda x, y: exp(-5 * ((x[0] - y[0]) ** 2 + (x[1] - y[1]) ** 2))})\n",
    "    return ans\n",
    "    for C in [0.05, 0.1, 0.5, 1.0, 5.0, 10.0, 50.0, 100.0]:\n",
    "        f = {}\n",
    "        f[\"C\"] = C\n",
    "        \n",
    "        f[\"name\"] = \"linear\"\n",
    "        f[\"func\"] = lambda x, y: x[0] * y[0] + x[1] * y[1]\n",
    "        ans.append(deepcopy(f))\n",
    "        \n",
    "        f[\"name\"] = \"poly\"\n",
    "        for d in [2, 3, 4, 5]:\n",
    "            f[\"param\"] = d\n",
    "            f[\"func\"] = lambda x, y: (x[0] * y[0] + x[1] * y[1]) ** d\n",
    "            ans.append(deepcopy(f))\n",
    "        \n",
    "        f[\"name\"] = \"gauss\"\n",
    "        for b in [1, 2, 3, 4, 5]:\n",
    "            f[\"param\"] = b\n",
    "            f[\"func\"] = lambda x, y: exp(-b * ((x[0] - y[0]) ** 2 + (x[1] - y[1]) ** 2))\n",
    "            ans.append(deepcopy(f))\n",
    "    return ans;"
   ]
  },
  {
   "cell_type": "code",
   "execution_count": 22,
   "metadata": {},
   "outputs": [],
   "source": [
    "# Predicted\n",
    "\n",
    "def get_predicted(c, K, l):\n",
    "    u = 0.0\n",
    "    for j in range(len(K)):\n",
    "        u += c[j] * l[j] * K[j]\n",
    "    return u + l[-1]\n",
    "\n",
    "def get_predicted2(c, a, l, f, attrs):\n",
    "    u = 0.0\n",
    "    for j in range(len(c)):\n",
    "        u += c[j] * l[j] * f(a, attrs[j])\n",
    "    return u + l[-1]"
   ]
  },
  {
   "cell_type": "code",
   "execution_count": 10,
   "metadata": {},
   "outputs": [],
   "source": [
    "# Get stat\n",
    "\n",
    "def get_stat(a, c):\n",
    "    funcs = get_kernel_functions()\n",
    "    best = {}\n",
    "    N = len(a)\n",
    "    for f in tqdm(funcs):\n",
    "        t = 0\n",
    "        K = get_K(a, f[\"func\"])\n",
    "        for i in range(N):\n",
    "            save_c = c[i]\n",
    "            new_c = np.delete(c, i, axis=0)\n",
    "            \n",
    "            new_k = np.delete(K, i, axis=1)\n",
    "            save_k = new_k[i]\n",
    "            new_k = np.delete(new_k, i, axis=0)\n",
    "            lambdas = smo_cpp(new_k, new_c, f[\"C\"])\n",
    "            p = get_predicted(new_c, save_k, lambdas)\n",
    "            \n",
    "            if p * save_c > 0.0:\n",
    "                t += 1\n",
    "        acc = t / N\n",
    "        s = best.get(f[\"name\"])\n",
    "        if s == None or s[\"acc\"] < acc:\n",
    "            best[f[\"name\"]] = {\n",
    "                \"func\": f,\n",
    "                \"acc\": acc,\n",
    "                \"lambdas\": smo_cpp(K, c, f[\"C\"])\n",
    "            }\n",
    "    return best"
   ]
  },
  {
   "cell_type": "code",
   "execution_count": 11,
   "metadata": {
    "scrolled": false
   },
   "outputs": [
    {
     "data": {
      "application/vnd.jupyter.widget-view+json": {
       "model_id": "f243413810a842d098a61490e1eb004f",
       "version_major": 2,
       "version_minor": 0
      },
      "text/plain": [
       "HBox(children=(HTML(value=''), FloatProgress(value=0.0, max=3.0), HTML(value='')))"
      ]
     },
     "metadata": {},
     "output_type": "display_data"
    },
    {
     "name": "stdout",
     "output_type": "stream",
     "text": [
      "\n"
     ]
    },
    {
     "data": {
      "application/vnd.jupyter.widget-view+json": {
       "model_id": "5ae5a05f1a3f4b2abe20342acad69046",
       "version_major": 2,
       "version_minor": 0
      },
      "text/plain": [
       "HBox(children=(HTML(value=''), FloatProgress(value=0.0, max=3.0), HTML(value='')))"
      ]
     },
     "metadata": {},
     "output_type": "display_data"
    },
    {
     "name": "stdout",
     "output_type": "stream",
     "text": [
      "\n"
     ]
    }
   ],
   "source": [
    "# Count stat\n",
    "\n",
    "# stat_chips = get_stat(attributes[0], classes[0])\n",
    "stat_geyser = get_stat(attributes[1], classes[1])"
   ]
  },
  {
   "cell_type": "code",
   "execution_count": 12,
   "metadata": {},
   "outputs": [],
   "source": [
    "def show_best(stat):\n",
    "    for s in stat:\n",
    "        copy = deepcopy(stat[s])\n",
    "        del copy[\"func\"][\"func\"]\n",
    "        print(str(copy[\"func\"]) + \": acc = \" + str(copy[\"acc\"]))"
   ]
  },
  {
   "cell_type": "code",
   "execution_count": 13,
   "metadata": {},
   "outputs": [
    {
     "name": "stdout",
     "output_type": "stream",
     "text": [
      "For chips:\n",
      "For geyser:\n",
      "{'C': 0.1, 'name': 'linear'}: acc = 0.8918918918918919\n",
      "{'C': 10.0, 'name': 'poly'}: acc = 0.6621621621621622\n",
      "{'C': 0.5, 'name': 'gauss'}: acc = 0.8198198198198198\n"
     ]
    }
   ],
   "source": [
    "print(\"For chips:\")\n",
    "#show_best(stat_chips)\n",
    "\n",
    "print(\"For geyser:\")\n",
    "show_best(stat_geyser)"
   ]
  },
  {
   "cell_type": "code",
   "execution_count": 31,
   "metadata": {},
   "outputs": [],
   "source": [
    "def draw(a, c, stat, step):\n",
    "    x_max, y_max = np.amax(a, 0)\n",
    "    x_min, y_min = np.amin(a, 0)\n",
    "    \n",
    "    X, Y = np.meshgrid(np.arange(x_min, x_max, step), np.arange(y_min, y_max, 0.01))\n",
    "    AX   = np.apply_along_axis(lambda s: get_predicted2(c, s, stat[\"lambdas\"], stat[\"func\"][\"func\"], a),\n",
    "                               1, np.c_[X.ravel(), Y.ravel()])\n",
    "\n",
    "    x_0, x_1 = np.array([]), np.array([])\n",
    "    y_0, y_1 = np.array([]), np.array([])\n",
    "    for i in range(len(a)):\n",
    "        if c[i] == -1:\n",
    "            x_0, y_0 = np.append(x_0, a[i][0]), np.append(y_0, a[i][1])\n",
    "        else:\n",
    "            x_1, y_1 = np.append(x_1, a[i][0]), np.append(y_1, a[i][1])\n",
    "    \n",
    "    plt.figure(figsize=(12, 12))\n",
    "    plt.xlim(x_min, x_max), plt.ylim(y_min, y_max)\n",
    "    plt.pcolormesh(X, Y, np.array(AX).reshape(X.shape),\n",
    "                   cmap=ListedColormap(['#799FE1', '#FC9797']), shading=\"auto\")\n",
    "    plt.scatter(x_0, y_0, color='blue', s=50)\n",
    "    plt.scatter(x_1, y_1, color='red',  s=50)\n",
    "    \n",
    "    plt.show()"
   ]
  },
  {
   "cell_type": "code",
   "execution_count": 15,
   "metadata": {},
   "outputs": [
    {
     "data": {
      "image/png": "[encoded data removed]",
      "text/plain": [
       "<Figure size 864x864 with 1 Axes>"
      ]
     },
     "metadata": {
      "needs_background": "light"
     },
     "output_type": "display_data"
    }
   ],
   "source": [
    "#draw(attributes[0], classes[0], stat_chips[\"gauss\"], 0.01)"
   ]
  },
  {
   "cell_type": "code",
   "execution_count": 34,
   "metadata": {
    "scrolled": false
   },
   "outputs": [
    {
     "data": {
      "image/png": "[encoded data removed]",
      "text/plain": [
       "<Figure size 864x864 with 1 Axes>"
      ]
     },
     "metadata": {
      "needs_background": "light"
     },
     "output_type": "display_data"
    }
   ],
   "source": [
    "draw(attributes[1], classes[1], stat_geyser[\"linear\"], 0.05)"
   ]
  },
  {
   "cell_type": "code",
   "execution_count": 33,
   "metadata": {},
   "outputs": [
    {
     "data": {
      "image/png": "[encoded data removed]",
      "text/plain": [
       "<Figure size 864x864 with 1 Axes>"
      ]
     },
     "metadata": {
      "needs_background": "light"
     },
     "output_type": "display_data"
    }
   ],
   "source": [
    "draw(attributes[1], classes[1], stat_geyser[\"poly\"], 0.05)"
   ]
  },
  {
   "cell_type": "code",
   "execution_count": 35,
   "metadata": {},
   "outputs": [
    {
     "data": {
      "image/png": "[encoded data removed]",
      "text/plain": [
       "<Figure size 864x864 with 1 Axes>"
      ]
     },
     "metadata": {
      "needs_background": "light"
     },
     "output_type": "display_data"
    }
   ],
   "source": [
    "draw(attributes[1], classes[1], stat_geyser[\"gauss\"], 0.05)"
   ]
  }
 ],
 "metadata": {
  "kernelspec": {
   "display_name": "Python 3",
   "language": "python",
   "name": "python3"
  },
  "language_info": {
   "codemirror_mode": {
    "name": "ipython",
    "version": 3
   },
   "file_extension": ".py",
   "mimetype": "text/x-python",
   "name": "python",
   "nbconvert_exporter": "python",
   "pygments_lexer": "ipython3",
   "version": "3.8.6"
  }
 },
 "nbformat": 4,
 "nbformat_minor": 4
}
